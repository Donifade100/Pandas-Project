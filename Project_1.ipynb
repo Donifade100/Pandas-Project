{
  "nbformat": 4,
  "nbformat_minor": 0,
  "metadata": {
    "colab": {
      "name": "Project 1",
      "provenance": [],
      "authorship_tag": "ABX9TyMSdPy+DARAJrHBp+DM0OUg",
      "include_colab_link": true
    },
    "kernelspec": {
      "name": "python3",
      "display_name": "Python 3"
    },
    "language_info": {
      "name": "python"
    }
  },
  "cells": [
    {
      "cell_type": "markdown",
      "metadata": {
        "id": "view-in-github",
        "colab_type": "text"
      },
      "source": [
        "<a href=\"https://colab.research.google.com/github/Donifade100/Pandas-Project/blob/main/Project_1.ipynb\" target=\"_parent\"><img src=\"https://colab.research.google.com/assets/colab-badge.svg\" alt=\"Open In Colab\"/></a>"
      ]
    },
    {
      "cell_type": "code",
      "metadata": {
        "id": "md622Zf4uEhV"
      },
      "source": [
        ""
      ],
      "execution_count": null,
      "outputs": []
    },
    {
      "cell_type": "markdown",
      "metadata": {
        "id": "RK2Ydipkxb7J"
      },
      "source": [
        "    The dataset I chose is the Covid-19 Cases, Hospitalization, and Deaths. The dataset provides information on Covid_19 cases by county in the state of connecticut, I chose this dataset because contain data that is very relvant to the times we live in today.\n",
        "    A solution we can achieve by using machine learning to analyze this data is effective ditribution of vaccines. We can analyze this data using machine learning to determine what county/counties will receive the limited vaccination available first depending on the number of cases .  "
      ]
    },
    {
      "cell_type": "code",
      "metadata": {
        "id": "NIHQjV_OzqY7"
      },
      "source": [
        "import pandas as pd\n"
      ],
      "execution_count": 2,
      "outputs": []
    },
    {
      "cell_type": "code",
      "metadata": {
        "id": "hnpoojUE0Ahb"
      },
      "source": [
        "data = pd.read_csv (\"/content/drive/MyDrive/COVID-19_Cases.csv\")"
      ],
      "execution_count": 5,
      "outputs": []
    },
    {
      "cell_type": "code",
      "metadata": {
        "colab": {
          "base_uri": "https://localhost:8080/"
        },
        "id": "QbGsyqa91LYQ",
        "outputId": "e0717419-42ed-41f7-fccd-0a1d3b2c011d"
      },
      "source": [
        "data.info()"
      ],
      "execution_count": 6,
      "outputs": [
        {
          "output_type": "stream",
          "text": [
            "<class 'pandas.core.frame.DataFrame'>\n",
            "RangeIndex: 2264 entries, 0 to 2263\n",
            "Data columns (total 11 columns):\n",
            " #   Column              Non-Null Count  Dtype  \n",
            "---  ------              --------------  -----  \n",
            " 0   Date updated        2264 non-null   object \n",
            " 1   County code         2264 non-null   int64  \n",
            " 2   County              2264 non-null   object \n",
            " 3   Total cases         2264 non-null   int64  \n",
            " 4   Confirmed cases     1720 non-null   float64\n",
            " 5   Probable cases      1720 non-null   float64\n",
            " 6   Total case rate     2000 non-null   float64\n",
            " 7   Hospitalized cases  2264 non-null   int64  \n",
            " 8   Total deaths        2264 non-null   int64  \n",
            " 9   Confirmed deaths    1720 non-null   float64\n",
            " 10  Probable deaths     1720 non-null   float64\n",
            "dtypes: float64(5), int64(4), object(2)\n",
            "memory usage: 194.7+ KB\n"
          ],
          "name": "stdout"
        }
      ]
    },
    {
      "cell_type": "code",
      "metadata": {
        "colab": {
          "base_uri": "https://localhost:8080/",
          "height": 418
        },
        "id": "MHkOYV833Jv3",
        "outputId": "fbcb5f4a-f883-4fe7-eb8e-64873d902027"
      },
      "source": [
        "data.isnull()"
      ],
      "execution_count": 7,
      "outputs": [
        {
          "output_type": "execute_result",
          "data": {
            "text/html": [
              "<div>\n",
              "<style scoped>\n",
              "    .dataframe tbody tr th:only-of-type {\n",
              "        vertical-align: middle;\n",
              "    }\n",
              "\n",
              "    .dataframe tbody tr th {\n",
              "        vertical-align: top;\n",
              "    }\n",
              "\n",
              "    .dataframe thead th {\n",
              "        text-align: right;\n",
              "    }\n",
              "</style>\n",
              "<table border=\"1\" class=\"dataframe\">\n",
              "  <thead>\n",
              "    <tr style=\"text-align: right;\">\n",
              "      <th></th>\n",
              "      <th>Date updated</th>\n",
              "      <th>County code</th>\n",
              "      <th>County</th>\n",
              "      <th>Total cases</th>\n",
              "      <th>Confirmed cases</th>\n",
              "      <th>Probable cases</th>\n",
              "      <th>Total case rate</th>\n",
              "      <th>Hospitalized cases</th>\n",
              "      <th>Total deaths</th>\n",
              "      <th>Confirmed deaths</th>\n",
              "      <th>Probable deaths</th>\n",
              "    </tr>\n",
              "  </thead>\n",
              "  <tbody>\n",
              "    <tr>\n",
              "      <th>0</th>\n",
              "      <td>False</td>\n",
              "      <td>False</td>\n",
              "      <td>False</td>\n",
              "      <td>False</td>\n",
              "      <td>False</td>\n",
              "      <td>False</td>\n",
              "      <td>False</td>\n",
              "      <td>False</td>\n",
              "      <td>False</td>\n",
              "      <td>False</td>\n",
              "      <td>False</td>\n",
              "    </tr>\n",
              "    <tr>\n",
              "      <th>1</th>\n",
              "      <td>False</td>\n",
              "      <td>False</td>\n",
              "      <td>False</td>\n",
              "      <td>False</td>\n",
              "      <td>False</td>\n",
              "      <td>False</td>\n",
              "      <td>False</td>\n",
              "      <td>False</td>\n",
              "      <td>False</td>\n",
              "      <td>False</td>\n",
              "      <td>False</td>\n",
              "    </tr>\n",
              "    <tr>\n",
              "      <th>2</th>\n",
              "      <td>False</td>\n",
              "      <td>False</td>\n",
              "      <td>False</td>\n",
              "      <td>False</td>\n",
              "      <td>False</td>\n",
              "      <td>False</td>\n",
              "      <td>False</td>\n",
              "      <td>False</td>\n",
              "      <td>False</td>\n",
              "      <td>False</td>\n",
              "      <td>False</td>\n",
              "    </tr>\n",
              "    <tr>\n",
              "      <th>3</th>\n",
              "      <td>False</td>\n",
              "      <td>False</td>\n",
              "      <td>False</td>\n",
              "      <td>False</td>\n",
              "      <td>False</td>\n",
              "      <td>False</td>\n",
              "      <td>False</td>\n",
              "      <td>False</td>\n",
              "      <td>False</td>\n",
              "      <td>False</td>\n",
              "      <td>False</td>\n",
              "    </tr>\n",
              "    <tr>\n",
              "      <th>4</th>\n",
              "      <td>False</td>\n",
              "      <td>False</td>\n",
              "      <td>False</td>\n",
              "      <td>False</td>\n",
              "      <td>False</td>\n",
              "      <td>False</td>\n",
              "      <td>False</td>\n",
              "      <td>False</td>\n",
              "      <td>False</td>\n",
              "      <td>False</td>\n",
              "      <td>False</td>\n",
              "    </tr>\n",
              "    <tr>\n",
              "      <th>...</th>\n",
              "      <td>...</td>\n",
              "      <td>...</td>\n",
              "      <td>...</td>\n",
              "      <td>...</td>\n",
              "      <td>...</td>\n",
              "      <td>...</td>\n",
              "      <td>...</td>\n",
              "      <td>...</td>\n",
              "      <td>...</td>\n",
              "      <td>...</td>\n",
              "      <td>...</td>\n",
              "    </tr>\n",
              "    <tr>\n",
              "      <th>2259</th>\n",
              "      <td>False</td>\n",
              "      <td>False</td>\n",
              "      <td>False</td>\n",
              "      <td>False</td>\n",
              "      <td>False</td>\n",
              "      <td>False</td>\n",
              "      <td>False</td>\n",
              "      <td>False</td>\n",
              "      <td>False</td>\n",
              "      <td>False</td>\n",
              "      <td>False</td>\n",
              "    </tr>\n",
              "    <tr>\n",
              "      <th>2260</th>\n",
              "      <td>False</td>\n",
              "      <td>False</td>\n",
              "      <td>False</td>\n",
              "      <td>False</td>\n",
              "      <td>False</td>\n",
              "      <td>False</td>\n",
              "      <td>False</td>\n",
              "      <td>False</td>\n",
              "      <td>False</td>\n",
              "      <td>False</td>\n",
              "      <td>False</td>\n",
              "    </tr>\n",
              "    <tr>\n",
              "      <th>2261</th>\n",
              "      <td>False</td>\n",
              "      <td>False</td>\n",
              "      <td>False</td>\n",
              "      <td>False</td>\n",
              "      <td>False</td>\n",
              "      <td>False</td>\n",
              "      <td>False</td>\n",
              "      <td>False</td>\n",
              "      <td>False</td>\n",
              "      <td>False</td>\n",
              "      <td>False</td>\n",
              "    </tr>\n",
              "    <tr>\n",
              "      <th>2262</th>\n",
              "      <td>False</td>\n",
              "      <td>False</td>\n",
              "      <td>False</td>\n",
              "      <td>False</td>\n",
              "      <td>False</td>\n",
              "      <td>False</td>\n",
              "      <td>False</td>\n",
              "      <td>False</td>\n",
              "      <td>False</td>\n",
              "      <td>False</td>\n",
              "      <td>False</td>\n",
              "    </tr>\n",
              "    <tr>\n",
              "      <th>2263</th>\n",
              "      <td>False</td>\n",
              "      <td>False</td>\n",
              "      <td>False</td>\n",
              "      <td>False</td>\n",
              "      <td>False</td>\n",
              "      <td>False</td>\n",
              "      <td>False</td>\n",
              "      <td>False</td>\n",
              "      <td>False</td>\n",
              "      <td>False</td>\n",
              "      <td>False</td>\n",
              "    </tr>\n",
              "  </tbody>\n",
              "</table>\n",
              "<p>2264 rows × 11 columns</p>\n",
              "</div>"
            ],
            "text/plain": [
              "      Date updated  County code  ...  Confirmed deaths  Probable deaths\n",
              "0            False        False  ...             False            False\n",
              "1            False        False  ...             False            False\n",
              "2            False        False  ...             False            False\n",
              "3            False        False  ...             False            False\n",
              "4            False        False  ...             False            False\n",
              "...            ...          ...  ...               ...              ...\n",
              "2259         False        False  ...             False            False\n",
              "2260         False        False  ...             False            False\n",
              "2261         False        False  ...             False            False\n",
              "2262         False        False  ...             False            False\n",
              "2263         False        False  ...             False            False\n",
              "\n",
              "[2264 rows x 11 columns]"
            ]
          },
          "metadata": {
            "tags": []
          },
          "execution_count": 7
        }
      ]
    },
    {
      "cell_type": "code",
      "metadata": {
        "colab": {
          "base_uri": "https://localhost:8080/"
        },
        "id": "klpdldgQ3PmC",
        "outputId": "154f6c0d-b4db-4311-8d10-b8ee5136deb3"
      },
      "source": [
        "data.isnull().count()"
      ],
      "execution_count": 8,
      "outputs": [
        {
          "output_type": "execute_result",
          "data": {
            "text/plain": [
              "Date updated          2264\n",
              "County code           2264\n",
              "County                2264\n",
              "Total cases           2264\n",
              "Confirmed cases       2264\n",
              "Probable cases        2264\n",
              "Total case rate       2264\n",
              "Hospitalized cases    2264\n",
              "Total deaths          2264\n",
              "Confirmed deaths      2264\n",
              "Probable deaths       2264\n",
              "dtype: int64"
            ]
          },
          "metadata": {
            "tags": []
          },
          "execution_count": 8
        }
      ]
    },
    {
      "cell_type": "markdown",
      "metadata": {
        "id": "Ui468UhW3zOQ"
      },
      "source": [
        "Data is Clean. NO NULL VALUES!"
      ]
    },
    {
      "cell_type": "code",
      "metadata": {
        "colab": {
          "base_uri": "https://localhost:8080/"
        },
        "id": "l5yQU3AE3bpX",
        "outputId": "28363d96-40c6-4185-b703-e857e20bd7d4"
      },
      "source": [
        "data.shape"
      ],
      "execution_count": 10,
      "outputs": [
        {
          "output_type": "execute_result",
          "data": {
            "text/plain": [
              "(2264, 11)"
            ]
          },
          "metadata": {
            "tags": []
          },
          "execution_count": 10
        }
      ]
    },
    {
      "cell_type": "code",
      "metadata": {
        "colab": {
          "base_uri": "https://localhost:8080/",
          "height": 229
        },
        "id": "hssTS0km4CWw",
        "outputId": "51fd3a7b-5ba2-4247-c7e2-00e3ccfd6230"
      },
      "source": [
        "data.head()"
      ],
      "execution_count": 11,
      "outputs": [
        {
          "output_type": "execute_result",
          "data": {
            "text/html": [
              "<div>\n",
              "<style scoped>\n",
              "    .dataframe tbody tr th:only-of-type {\n",
              "        vertical-align: middle;\n",
              "    }\n",
              "\n",
              "    .dataframe tbody tr th {\n",
              "        vertical-align: top;\n",
              "    }\n",
              "\n",
              "    .dataframe thead th {\n",
              "        text-align: right;\n",
              "    }\n",
              "</style>\n",
              "<table border=\"1\" class=\"dataframe\">\n",
              "  <thead>\n",
              "    <tr style=\"text-align: right;\">\n",
              "      <th></th>\n",
              "      <th>Date updated</th>\n",
              "      <th>County code</th>\n",
              "      <th>County</th>\n",
              "      <th>Total cases</th>\n",
              "      <th>Confirmed cases</th>\n",
              "      <th>Probable cases</th>\n",
              "      <th>Total case rate</th>\n",
              "      <th>Hospitalized cases</th>\n",
              "      <th>Total deaths</th>\n",
              "      <th>Confirmed deaths</th>\n",
              "      <th>Probable deaths</th>\n",
              "    </tr>\n",
              "  </thead>\n",
              "  <tbody>\n",
              "    <tr>\n",
              "      <th>0</th>\n",
              "      <td>06/02/2020</td>\n",
              "      <td>1</td>\n",
              "      <td>Fairfield</td>\n",
              "      <td>15789</td>\n",
              "      <td>15087.0</td>\n",
              "      <td>702.0</td>\n",
              "      <td>1673.0</td>\n",
              "      <td>134</td>\n",
              "      <td>1289</td>\n",
              "      <td>998.0</td>\n",
              "      <td>291.0</td>\n",
              "    </tr>\n",
              "    <tr>\n",
              "      <th>1</th>\n",
              "      <td>06/02/2020</td>\n",
              "      <td>2</td>\n",
              "      <td>Hartford</td>\n",
              "      <td>10593</td>\n",
              "      <td>9914.0</td>\n",
              "      <td>679.0</td>\n",
              "      <td>1187.0</td>\n",
              "      <td>92</td>\n",
              "      <td>1259</td>\n",
              "      <td>958.0</td>\n",
              "      <td>301.0</td>\n",
              "    </tr>\n",
              "    <tr>\n",
              "      <th>2</th>\n",
              "      <td>06/02/2020</td>\n",
              "      <td>3</td>\n",
              "      <td>Litchfield</td>\n",
              "      <td>1404</td>\n",
              "      <td>1338.0</td>\n",
              "      <td>66.0</td>\n",
              "      <td>775.0</td>\n",
              "      <td>5</td>\n",
              "      <td>133</td>\n",
              "      <td>113.0</td>\n",
              "      <td>20.0</td>\n",
              "    </tr>\n",
              "    <tr>\n",
              "      <th>3</th>\n",
              "      <td>06/02/2020</td>\n",
              "      <td>4</td>\n",
              "      <td>Middlesex</td>\n",
              "      <td>1161</td>\n",
              "      <td>1104.0</td>\n",
              "      <td>57.0</td>\n",
              "      <td>714.0</td>\n",
              "      <td>16</td>\n",
              "      <td>152</td>\n",
              "      <td>118.0</td>\n",
              "      <td>34.0</td>\n",
              "    </tr>\n",
              "    <tr>\n",
              "      <th>4</th>\n",
              "      <td>06/02/2020</td>\n",
              "      <td>5</td>\n",
              "      <td>New Haven</td>\n",
              "      <td>11548</td>\n",
              "      <td>11161.0</td>\n",
              "      <td>387.0</td>\n",
              "      <td>1347.0</td>\n",
              "      <td>150</td>\n",
              "      <td>990</td>\n",
              "      <td>843.0</td>\n",
              "      <td>147.0</td>\n",
              "    </tr>\n",
              "  </tbody>\n",
              "</table>\n",
              "</div>"
            ],
            "text/plain": [
              "  Date updated  County code  ... Confirmed deaths  Probable deaths\n",
              "0   06/02/2020            1  ...            998.0            291.0\n",
              "1   06/02/2020            2  ...            958.0            301.0\n",
              "2   06/02/2020            3  ...            113.0             20.0\n",
              "3   06/02/2020            4  ...            118.0             34.0\n",
              "4   06/02/2020            5  ...            843.0            147.0\n",
              "\n",
              "[5 rows x 11 columns]"
            ]
          },
          "metadata": {
            "tags": []
          },
          "execution_count": 11
        }
      ]
    },
    {
      "cell_type": "code",
      "metadata": {
        "colab": {
          "base_uri": "https://localhost:8080/",
          "height": 301
        },
        "id": "fEKN8a2E4N-2",
        "outputId": "4911f141-1047-44ef-8d51-9146ddf35782"
      },
      "source": [
        "data.describe()"
      ],
      "execution_count": 12,
      "outputs": [
        {
          "output_type": "execute_result",
          "data": {
            "text/html": [
              "<div>\n",
              "<style scoped>\n",
              "    .dataframe tbody tr th:only-of-type {\n",
              "        vertical-align: middle;\n",
              "    }\n",
              "\n",
              "    .dataframe tbody tr th {\n",
              "        vertical-align: top;\n",
              "    }\n",
              "\n",
              "    .dataframe thead th {\n",
              "        text-align: right;\n",
              "    }\n",
              "</style>\n",
              "<table border=\"1\" class=\"dataframe\">\n",
              "  <thead>\n",
              "    <tr style=\"text-align: right;\">\n",
              "      <th></th>\n",
              "      <th>County code</th>\n",
              "      <th>Total cases</th>\n",
              "      <th>Confirmed cases</th>\n",
              "      <th>Probable cases</th>\n",
              "      <th>Total case rate</th>\n",
              "      <th>Hospitalized cases</th>\n",
              "      <th>Total deaths</th>\n",
              "      <th>Confirmed deaths</th>\n",
              "      <th>Probable deaths</th>\n",
              "    </tr>\n",
              "  </thead>\n",
              "  <tbody>\n",
              "    <tr>\n",
              "      <th>count</th>\n",
              "      <td>2264.000000</td>\n",
              "      <td>2264.000000</td>\n",
              "      <td>1720.000000</td>\n",
              "      <td>1720.000000</td>\n",
              "      <td>2000.000000</td>\n",
              "      <td>2264.000000</td>\n",
              "      <td>2264.000000</td>\n",
              "      <td>1720.000000</td>\n",
              "      <td>1720.000000</td>\n",
              "    </tr>\n",
              "    <tr>\n",
              "      <th>mean</th>\n",
              "      <td>4.500000</td>\n",
              "      <td>11999.107774</td>\n",
              "      <td>14028.618023</td>\n",
              "      <td>861.911628</td>\n",
              "      <td>2577.484000</td>\n",
              "      <td>78.870141</td>\n",
              "      <td>556.958481</td>\n",
              "      <td>531.643023</td>\n",
              "      <td>126.797093</td>\n",
              "    </tr>\n",
              "    <tr>\n",
              "      <th>std</th>\n",
              "      <td>2.291794</td>\n",
              "      <td>18333.193403</td>\n",
              "      <td>18705.302036</td>\n",
              "      <td>1395.741009</td>\n",
              "      <td>2409.389322</td>\n",
              "      <td>137.889768</td>\n",
              "      <td>656.372722</td>\n",
              "      <td>562.787020</td>\n",
              "      <td>136.499140</td>\n",
              "    </tr>\n",
              "    <tr>\n",
              "      <th>min</th>\n",
              "      <td>1.000000</td>\n",
              "      <td>2.000000</td>\n",
              "      <td>376.000000</td>\n",
              "      <td>7.000000</td>\n",
              "      <td>134.000000</td>\n",
              "      <td>0.000000</td>\n",
              "      <td>0.000000</td>\n",
              "      <td>12.000000</td>\n",
              "      <td>1.000000</td>\n",
              "    </tr>\n",
              "    <tr>\n",
              "      <th>25%</th>\n",
              "      <td>2.750000</td>\n",
              "      <td>1207.500000</td>\n",
              "      <td>1480.250000</td>\n",
              "      <td>69.000000</td>\n",
              "      <td>798.750000</td>\n",
              "      <td>4.000000</td>\n",
              "      <td>68.000000</td>\n",
              "      <td>89.750000</td>\n",
              "      <td>21.000000</td>\n",
              "    </tr>\n",
              "    <tr>\n",
              "      <th>50%</th>\n",
              "      <td>4.500000</td>\n",
              "      <td>4644.000000</td>\n",
              "      <td>7523.000000</td>\n",
              "      <td>371.500000</td>\n",
              "      <td>1497.500000</td>\n",
              "      <td>17.000000</td>\n",
              "      <td>182.000000</td>\n",
              "      <td>163.000000</td>\n",
              "      <td>39.000000</td>\n",
              "    </tr>\n",
              "    <tr>\n",
              "      <th>75%</th>\n",
              "      <td>6.250000</td>\n",
              "      <td>13557.250000</td>\n",
              "      <td>16061.750000</td>\n",
              "      <td>714.000000</td>\n",
              "      <td>4022.250000</td>\n",
              "      <td>69.250000</td>\n",
              "      <td>1119.000000</td>\n",
              "      <td>1074.250000</td>\n",
              "      <td>270.000000</td>\n",
              "    </tr>\n",
              "    <tr>\n",
              "      <th>max</th>\n",
              "      <td>8.000000</td>\n",
              "      <td>85225.000000</td>\n",
              "      <td>78489.000000</td>\n",
              "      <td>6736.000000</td>\n",
              "      <td>9030.000000</td>\n",
              "      <td>797.000000</td>\n",
              "      <td>2333.000000</td>\n",
              "      <td>1914.000000</td>\n",
              "      <td>419.000000</td>\n",
              "    </tr>\n",
              "  </tbody>\n",
              "</table>\n",
              "</div>"
            ],
            "text/plain": [
              "       County code  Total cases   ...  Confirmed deaths  Probable deaths\n",
              "count  2264.000000   2264.000000  ...       1720.000000      1720.000000\n",
              "mean      4.500000  11999.107774  ...        531.643023       126.797093\n",
              "std       2.291794  18333.193403  ...        562.787020       136.499140\n",
              "min       1.000000      2.000000  ...         12.000000         1.000000\n",
              "25%       2.750000   1207.500000  ...         89.750000        21.000000\n",
              "50%       4.500000   4644.000000  ...        163.000000        39.000000\n",
              "75%       6.250000  13557.250000  ...       1074.250000       270.000000\n",
              "max       8.000000  85225.000000  ...       1914.000000       419.000000\n",
              "\n",
              "[8 rows x 9 columns]"
            ]
          },
          "metadata": {
            "tags": []
          },
          "execution_count": 12
        }
      ]
    },
    {
      "cell_type": "code",
      "metadata": {
        "colab": {
          "base_uri": "https://localhost:8080/",
          "height": 414
        },
        "id": "emx3P2Rh4S7N",
        "outputId": "d03e9e9c-5172-40dc-af6a-7f5334b2430b"
      },
      "source": [
        "data.corr()"
      ],
      "execution_count": 13,
      "outputs": [
        {
          "output_type": "execute_result",
          "data": {
            "text/html": [
              "<div>\n",
              "<style scoped>\n",
              "    .dataframe tbody tr th:only-of-type {\n",
              "        vertical-align: middle;\n",
              "    }\n",
              "\n",
              "    .dataframe tbody tr th {\n",
              "        vertical-align: top;\n",
              "    }\n",
              "\n",
              "    .dataframe thead th {\n",
              "        text-align: right;\n",
              "    }\n",
              "</style>\n",
              "<table border=\"1\" class=\"dataframe\">\n",
              "  <thead>\n",
              "    <tr style=\"text-align: right;\">\n",
              "      <th></th>\n",
              "      <th>County code</th>\n",
              "      <th>Total cases</th>\n",
              "      <th>Confirmed cases</th>\n",
              "      <th>Probable cases</th>\n",
              "      <th>Total case rate</th>\n",
              "      <th>Hospitalized cases</th>\n",
              "      <th>Total deaths</th>\n",
              "      <th>Confirmed deaths</th>\n",
              "      <th>Probable deaths</th>\n",
              "    </tr>\n",
              "  </thead>\n",
              "  <tbody>\n",
              "    <tr>\n",
              "      <th>County code</th>\n",
              "      <td>1.000000</td>\n",
              "      <td>-0.413272</td>\n",
              "      <td>-0.464242</td>\n",
              "      <td>-0.417608</td>\n",
              "      <td>-0.154910</td>\n",
              "      <td>-0.378249</td>\n",
              "      <td>-0.614388</td>\n",
              "      <td>-0.655557</td>\n",
              "      <td>-0.742748</td>\n",
              "    </tr>\n",
              "    <tr>\n",
              "      <th>Total cases</th>\n",
              "      <td>-0.413272</td>\n",
              "      <td>1.000000</td>\n",
              "      <td>0.999832</td>\n",
              "      <td>0.969284</td>\n",
              "      <td>0.739075</td>\n",
              "      <td>0.412209</td>\n",
              "      <td>0.853760</td>\n",
              "      <td>0.859556</td>\n",
              "      <td>0.782467</td>\n",
              "    </tr>\n",
              "    <tr>\n",
              "      <th>Confirmed cases</th>\n",
              "      <td>-0.464242</td>\n",
              "      <td>0.999832</td>\n",
              "      <td>1.000000</td>\n",
              "      <td>0.964607</td>\n",
              "      <td>0.727168</td>\n",
              "      <td>0.759701</td>\n",
              "      <td>0.854338</td>\n",
              "      <td>0.863446</td>\n",
              "      <td>0.787157</td>\n",
              "    </tr>\n",
              "    <tr>\n",
              "      <th>Probable cases</th>\n",
              "      <td>-0.417608</td>\n",
              "      <td>0.969284</td>\n",
              "      <td>0.964607</td>\n",
              "      <td>1.000000</td>\n",
              "      <td>0.706440</td>\n",
              "      <td>0.720809</td>\n",
              "      <td>0.767636</td>\n",
              "      <td>0.779086</td>\n",
              "      <td>0.693806</td>\n",
              "    </tr>\n",
              "    <tr>\n",
              "      <th>Total case rate</th>\n",
              "      <td>-0.154910</td>\n",
              "      <td>0.739075</td>\n",
              "      <td>0.727168</td>\n",
              "      <td>0.706440</td>\n",
              "      <td>1.000000</td>\n",
              "      <td>0.305753</td>\n",
              "      <td>0.459508</td>\n",
              "      <td>0.451000</td>\n",
              "      <td>0.388566</td>\n",
              "    </tr>\n",
              "    <tr>\n",
              "      <th>Hospitalized cases</th>\n",
              "      <td>-0.378249</td>\n",
              "      <td>0.412209</td>\n",
              "      <td>0.759701</td>\n",
              "      <td>0.720809</td>\n",
              "      <td>0.305753</td>\n",
              "      <td>1.000000</td>\n",
              "      <td>0.414684</td>\n",
              "      <td>0.695000</td>\n",
              "      <td>0.630219</td>\n",
              "    </tr>\n",
              "    <tr>\n",
              "      <th>Total deaths</th>\n",
              "      <td>-0.614388</td>\n",
              "      <td>0.853760</td>\n",
              "      <td>0.854338</td>\n",
              "      <td>0.767636</td>\n",
              "      <td>0.459508</td>\n",
              "      <td>0.414684</td>\n",
              "      <td>1.000000</td>\n",
              "      <td>0.998376</td>\n",
              "      <td>0.972017</td>\n",
              "    </tr>\n",
              "    <tr>\n",
              "      <th>Confirmed deaths</th>\n",
              "      <td>-0.655557</td>\n",
              "      <td>0.859556</td>\n",
              "      <td>0.863446</td>\n",
              "      <td>0.779086</td>\n",
              "      <td>0.451000</td>\n",
              "      <td>0.695000</td>\n",
              "      <td>0.998376</td>\n",
              "      <td>1.000000</td>\n",
              "      <td>0.957054</td>\n",
              "    </tr>\n",
              "    <tr>\n",
              "      <th>Probable deaths</th>\n",
              "      <td>-0.742748</td>\n",
              "      <td>0.782467</td>\n",
              "      <td>0.787157</td>\n",
              "      <td>0.693806</td>\n",
              "      <td>0.388566</td>\n",
              "      <td>0.630219</td>\n",
              "      <td>0.972017</td>\n",
              "      <td>0.957054</td>\n",
              "      <td>1.000000</td>\n",
              "    </tr>\n",
              "  </tbody>\n",
              "</table>\n",
              "</div>"
            ],
            "text/plain": [
              "                    County code  ...  Probable deaths\n",
              "County code            1.000000  ...        -0.742748\n",
              "Total cases           -0.413272  ...         0.782467\n",
              "Confirmed cases       -0.464242  ...         0.787157\n",
              "Probable cases        -0.417608  ...         0.693806\n",
              "Total case rate       -0.154910  ...         0.388566\n",
              "Hospitalized cases    -0.378249  ...         0.630219\n",
              "Total deaths          -0.614388  ...         0.972017\n",
              "Confirmed deaths      -0.655557  ...         0.957054\n",
              "Probable deaths       -0.742748  ...         1.000000\n",
              "\n",
              "[9 rows x 9 columns]"
            ]
          },
          "metadata": {
            "tags": []
          },
          "execution_count": 13
        }
      ]
    },
    {
      "cell_type": "code",
      "metadata": {
        "id": "vJiaafUxBYJK"
      },
      "source": [
        ""
      ],
      "execution_count": null,
      "outputs": []
    },
    {
      "cell_type": "code",
      "metadata": {
        "colab": {
          "base_uri": "https://localhost:8080/",
          "height": 293
        },
        "id": "yWTE5vjQ_1sF",
        "outputId": "086e7b3f-5f28-4bfd-a5dc-94b62b12115d"
      },
      "source": [
        "data.plot.bar(x=\"County code\")"
      ],
      "execution_count": 22,
      "outputs": [
        {
          "output_type": "execute_result",
          "data": {
            "text/plain": [
              "<matplotlib.axes._subplots.AxesSubplot at 0x7f9eacbfb610>"
            ]
          },
          "metadata": {
            "tags": []
          },
          "execution_count": 22
        },
        {
          "output_type": "display_data",
          "data": {
            "image/png": "[encoded data removed]",
            "text/plain": [
              "<Figure size 432x288 with 1 Axes>"
            ]
          },
          "metadata": {
            "tags": [],
            "needs_background": "light"
          }
        }
      ]
    },
    {
      "cell_type": "code",
      "metadata": {
        "colab": {
          "base_uri": "https://localhost:8080/",
          "height": 286
        },
        "id": "hMEZTb4VCNSr",
        "outputId": "b6a1dba5-154c-40d4-901f-ade184d1230b"
      },
      "source": [
        "data.plot.barh(x=\"County code\")"
      ],
      "execution_count": 29,
      "outputs": [
        {
          "output_type": "execute_result",
          "data": {
            "text/plain": [
              "<matplotlib.axes._subplots.AxesSubplot at 0x7f9e88a7af10>"
            ]
          },
          "metadata": {
            "tags": []
          },
          "execution_count": 29
        },
        {
          "output_type": "display_data",
          "data": {
            "image/png": "[encoded data removed]",
            "text/plain": [
              "<Figure size 432x288 with 1 Axes>"
            ]
          },
          "metadata": {
            "tags": [],
            "needs_background": "light"
          }
        }
      ]
    }
  ]
}